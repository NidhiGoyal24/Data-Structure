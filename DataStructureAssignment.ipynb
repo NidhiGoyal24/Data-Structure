{
  "nbformat": 4,
  "nbformat_minor": 0,
  "metadata": {
    "colab": {
      "provenance": []
    },
    "kernelspec": {
      "name": "python3",
      "display_name": "Python 3"
    },
    "language_info": {
      "name": "python"
    }
  },
  "cells": [
    {
      "cell_type": "markdown",
      "source": [
        "# **Data Structure**\n",
        "\n",
        "**1) what are Data Structure and why they are important ?**\n",
        "\n",
        "--> Data Structures are specialized formats for organising, storing and accessing collection of data. They provide efficient ways to manage information based on its characteristics and intended use.\n",
        "\n",
        "--> They are important because :\n",
        "  - Proper data structure can easily manipulate data.\n",
        "  - It can easily search and store the data.\n",
        "  - It conserve the memory usage.\n",
        "\n",
        "**2) Explain the difference between mutable and immutable data types with example.**\n",
        "\n",
        "--> Mutable Data type : In this we change or modify the data easily.\n",
        "  - Lists are mutable data type.\n",
        "  - EX : list1 = [1,10,5.6,\"nidhi\",5+6j]  ## Mixed data\n",
        "         list1.append(\"Milk\")  ## Adding an item\n",
        "         del list1[2]  ## removing the item at 2nd index\n",
        "\n",
        "--> Immutable Data type : In this we can not change or modify the data.\n",
        "  - tuples are immutable data type.\n",
        "  - EX : tup1 = (10,\"apple\",True,\"banana,5.5)  ## mixed data\n",
        "         tup1.append(\"grapes\")  ## appending or modifying will cause an\n",
        "                                   eroor\n",
        "\n",
        "**3) what are the main difference between lists and tuples in Python ?**\n",
        "\n",
        "--> The main difference between lists and tuple is that, lists are mutable while tuples are immutable.\n",
        "\n",
        "--> It means we can change the content of lists but not tuples.\n",
        "\n",
        "**4) Describe how Dictionaries store the Data.**\n",
        "\n",
        "--> Dictionaries used to store data values in key:value pairs.\n",
        "\n",
        "--> Dictionary is a collectiona which is ordered, changeable and do not allow duplicates.\n",
        "\n",
        "**5) why might you use set instead of a list in Python.?**\n",
        "\n",
        "--> Sets do not store the duplicate values, so they use less memory than lists. As a result, sets take less time to search through while in lists it take more time.\n",
        "\n",
        "**6) what is string in Python, and how it is different from a list.?**\n",
        "\n",
        "--> Strings are sequence of characters used for representing textual data.\n",
        "\n",
        "--> String is enclosed in either in single quote('') or in double quote (\"\").\n",
        "\n",
        "--> while, list is a sequence of values which can be character, integer or can be another list.\n",
        "\n",
        "--> string is immutable i.e. non changeable while list is mutable i.e. we can modify it.\n",
        "\n",
        "**7) How do tuples ensure data integrity in Python?**\n",
        "\n",
        "--> In Python, tuples ensure data integrity through their immutability. Once a tuple is created, its contents cannot be changed, added to, or removed. This immutability guarantees that the data within the tuple remains consistent and unchanged throughout its lifecycle.\n",
        "\n",
        "**8) What is a hash table, and how does it relate to dictionaries in Python?**\n",
        "\n",
        "**9) Can lists contain different data types in Python?**\n",
        "\n",
        "--> Yes, lists contain different data types.\n",
        "\n",
        "--> EX : list1 = [\"nidhi\", 5, 5.8, 3 + 7j, True]\n",
        "\n",
        "--> lists is like our grocerry bag, can contain everything.\n",
        "\n",
        "--> int, float, boolean, complex, string etc all are included in lists.\n",
        "\n",
        "**10) Explain why strings are immutable in Python?**\n",
        "\n",
        "--> String in Python are immutable which means they can not be changed after they are created.\n",
        "\n",
        "--> EX : name = \"Nidhi\"\n",
        "         name[0] = \"R\"  ## it will throw an error\n",
        "  \n",
        "--> We can not update or change the string after declaring, it means once an immutable object instantiated its value can not be changed.\n",
        "\n",
        "**11) What advantages do dictionaries offer over lists for certain tasks?**\n",
        "\n",
        "--> Dictionaries provide a significant advantage over lists when you need to quickly look up a specific value based on a unique key, as dictionaries are designed for fast key-based access, making them ideal for tasks where you need to efficiently retrieve data associated with a specific identifier, unlike lists which require iterating through elements to find a match, which takes more time.\n",
        "\n",
        "**12) Describe a scenario where using a tuple would be preferable over a list.**\n",
        "\n",
        "--> We use a tuple if required need an immutable collection where the elements won't change after creation.\n",
        "\n",
        "--> EX : details of employee in organization and details of Id cards that Details cant changeable so we can use tuples.\n",
        "\n",
        "--> Tuples are generally faster and more memory-efficient than lists, making them better for fixed collections, especially as dictionary keys or when iteration speed is crucial.\n",
        "\n",
        "**13) How do sets handle duplicate values in Python?**\n",
        "\n",
        "--> It's an unordered collection of unique elements, meaning it cannot contain any duplicate items. When you add elements to a set, Python automatically removes any duplicates. This makes it a perfect choice for scenarios where you need to store a collection of items while ensuring uniqueness.\n",
        "\n",
        "**14) How does the “in” keyword work differently for lists and dictionaries?**\n",
        "\n",
        "--> The 'in' operation for the dictionary tests on 'keys'. Because the keys of the dictionary is a unique value. On the other hand, dictionary values can be duplicated like a list.\n",
        "\n",
        "--> On the other hand 'in' keyword can be used to test whether certain  a certain value present in a list or tuple.\n",
        "\n",
        "--> 'in' keyword is very useful to write conditional statements that will execute a block of code only when a value is found in a list.\n",
        "\n",
        "\n",
        "**15) Can you modify the elements of a tuple? Explain why or why not.**\n",
        "\n",
        "--> No we can not modify the elements of tuple in Python because tuples are immutable.\n",
        "\n",
        "--> This means that once the tuple is created, its elements can not be changed, added or removed.\n",
        "\n",
        "**16) What is a nested dictionary, and give an example of its use case?**\n",
        "\n",
        "--> A nested dictionary is a data structure where a dictionary within another dictionary acts as a value, essentially creating a hierarchical organization of key-value pairs, allowing you to store complex data with multiple levels of relationships.\n",
        "\n",
        "--> for example, we use a nested dictionary to represent employee information organized by department, with each department key containing a dictionary of individual employee details as values.\n",
        "\n",
        "**17) Describe the time complexity of accessing elements in a dictionary?**\n",
        "\n",
        "**18) In what situations are lists preferred over dictionaries?**\n",
        "\n",
        "--> For quick data look-ups, configurations, or caches, we generally preffer dictionaries. For ordered collections and sequence operations, such as maintaining a stack or queue, lists are more suitable.\n",
        "\n",
        "**19) Why are dictionaries considered unordered, and how does that affect data retrieval?**\n",
        "\n",
        "--> Dictionaries considered as unordered collection of data or objects because, dictionaries do not maintain any inherent order of the items based on when they were added.\n",
        "   \n",
        "   Their primary function is fast key-based access, and they are not intended to be used as ordered collections like lists or tuples.\n",
        "\n",
        "**20) Explain the difference between a list and a dictionary in terms of data retrieval.**\n",
        "\n",
        "--> lists are ordered collections of items that are accessed by index, while dictionaries are unordered collections of key-value pairs that are accessed by key.\n",
        "\n",
        "--> Dictionaries are faster for lookups, while lists are faster for ordered operations like sorting.\n",
        "\n",
        "--> Data retrieval :\n",
        "* Lists: Elements are accessed by index, which is an integer that starts at zero.\n",
        "* Dictionaries: Elements are accessed by key, which can be of any data type."
      ],
      "metadata": {
        "id": "OOF9nmWDycZS"
      }
    },
    {
      "cell_type": "markdown",
      "source": [
        "# **Practical Questions**"
      ],
      "metadata": {
        "id": "NtH2wE8-06Op"
      }
    },
    {
      "cell_type": "code",
      "source": [
        "## 1) Write a code to create a string with your name and print it.\n",
        "\n",
        "name = \"Nidhi\"\n",
        "print(name)"
      ],
      "metadata": {
        "id": "Eq0lQuXQyY8u",
        "colab": {
          "base_uri": "https://localhost:8080/"
        },
        "outputId": "890a16b9-ad8c-4c87-812f-5db9aba0f42c"
      },
      "execution_count": null,
      "outputs": [
        {
          "output_type": "stream",
          "name": "stdout",
          "text": [
            "Nidhi\n"
          ]
        }
      ]
    },
    {
      "cell_type": "code",
      "source": [
        "## 2) Write a code to find the length of the string \"Hello World\"\n",
        "\n",
        "string1 = \"Hello World\"\n",
        "len(string1)\n",
        "print(len(string1))"
      ],
      "metadata": {
        "id": "PS4Qob861OAw",
        "colab": {
          "base_uri": "https://localhost:8080/"
        },
        "outputId": "a464a800-1d24-401a-f437-c760fb451ba8"
      },
      "execution_count": null,
      "outputs": [
        {
          "output_type": "stream",
          "name": "stdout",
          "text": [
            "11\n"
          ]
        }
      ]
    },
    {
      "cell_type": "code",
      "source": [
        "## 3) Write a code to slice the first 3 characters from the string \"Python Programming\"\n",
        "\n",
        "string = \"Python Programming\"\n",
        "print(string[0:3])"
      ],
      "metadata": {
        "id": "gUZgLAqs1TpH",
        "colab": {
          "base_uri": "https://localhost:8080/"
        },
        "outputId": "385c2716-8621-434e-c45f-d6e2e6dabf68"
      },
      "execution_count": null,
      "outputs": [
        {
          "output_type": "stream",
          "name": "stdout",
          "text": [
            "Pyt\n"
          ]
        }
      ]
    },
    {
      "cell_type": "code",
      "source": [
        "## 4) Write a code to convert the string \"hello\" to uppercase.\n",
        "\n",
        "string = \"hello\"\n",
        "print(string.upper())"
      ],
      "metadata": {
        "id": "iCvLVKHL1ZRp",
        "colab": {
          "base_uri": "https://localhost:8080/"
        },
        "outputId": "5f770a46-d29e-482b-a8f7-34080916e8d0"
      },
      "execution_count": null,
      "outputs": [
        {
          "output_type": "stream",
          "name": "stdout",
          "text": [
            "HELLO\n"
          ]
        }
      ]
    },
    {
      "cell_type": "code",
      "source": [
        "## 5) Write a code to replace the word \"apple\" with \"orange\" in the string \"I like apple\"\n",
        "\n",
        "string = \"I like apple\"\n",
        "print(string.replace(\"apple\", \"orange\"))"
      ],
      "metadata": {
        "id": "wJIdFIby1fGp",
        "colab": {
          "base_uri": "https://localhost:8080/"
        },
        "outputId": "a92becf5-adab-481d-dfb9-9370ad677903"
      },
      "execution_count": null,
      "outputs": [
        {
          "output_type": "stream",
          "name": "stdout",
          "text": [
            "I like orange\n"
          ]
        }
      ]
    },
    {
      "cell_type": "code",
      "source": [
        "## 6) Write a code to create a list with numbers 1 to 5 and print it.\n",
        "\n",
        "list1 = [1,2,3,4,5]\n",
        "print(list1)"
      ],
      "metadata": {
        "id": "6n3foHiy1mJv",
        "colab": {
          "base_uri": "https://localhost:8080/"
        },
        "outputId": "bf216b9e-be16-4f61-f288-792d93a9c0c0"
      },
      "execution_count": null,
      "outputs": [
        {
          "output_type": "stream",
          "name": "stdout",
          "text": [
            "[1, 2, 3, 4, 5]\n"
          ]
        }
      ]
    },
    {
      "cell_type": "code",
      "source": [
        "## 7) Write a code to append the number 10 to the list [1, 2, 3, 4].\n",
        "\n",
        "list1 = [1,2,3,4]\n",
        "list1.append(10)\n",
        "print(list1)"
      ],
      "metadata": {
        "id": "O3H9X-Za1rvP",
        "colab": {
          "base_uri": "https://localhost:8080/"
        },
        "outputId": "5716369a-3a86-4218-ca32-f48916ff1fdc"
      },
      "execution_count": null,
      "outputs": [
        {
          "output_type": "stream",
          "name": "stdout",
          "text": [
            "[1, 2, 3, 4, 10]\n"
          ]
        }
      ]
    },
    {
      "cell_type": "code",
      "source": [
        "## 8) Write a code to remove the number 3 from the list [1, 2, 3, 4, 5].\n",
        "\n",
        "list1 = [1,2,3,4,5]\n",
        "list1.remove(3)\n",
        "print(list1)"
      ],
      "metadata": {
        "id": "2EkQJxEn1wlf",
        "colab": {
          "base_uri": "https://localhost:8080/"
        },
        "outputId": "497c8e83-be66-4596-ae17-745a88c5186a"
      },
      "execution_count": null,
      "outputs": [
        {
          "output_type": "stream",
          "name": "stdout",
          "text": [
            "[1, 2, 4, 5]\n"
          ]
        }
      ]
    },
    {
      "cell_type": "code",
      "source": [
        "## 9) Write a code to access the second element in the list ['a', 'b', 'c', 'd'].\n",
        "\n",
        "list1= [\"a\",\"b\",\"c\",\"d\"]\n",
        "list1[1]\n",
        "print( list1[1])"
      ],
      "metadata": {
        "id": "lFnF4HqR113U",
        "colab": {
          "base_uri": "https://localhost:8080/"
        },
        "outputId": "3e109329-fa02-4bd1-953f-c59354932efc"
      },
      "execution_count": null,
      "outputs": [
        {
          "output_type": "stream",
          "name": "stdout",
          "text": [
            "b\n"
          ]
        }
      ]
    },
    {
      "cell_type": "code",
      "source": [
        "## 10) Write a code to reverse the list [10, 20, 30, 40, 50].\n",
        "\n",
        "list1 = [10,20,30,40,50]\n",
        "list1.reverse()\n",
        "print(list1)"
      ],
      "metadata": {
        "id": "gZuBxYEs17W4",
        "colab": {
          "base_uri": "https://localhost:8080/"
        },
        "outputId": "7a986ecb-853d-4c07-f4a6-5cfa0f9b9214"
      },
      "execution_count": null,
      "outputs": [
        {
          "output_type": "stream",
          "name": "stdout",
          "text": [
            "[50, 40, 30, 20, 10]\n"
          ]
        }
      ]
    }
  ]
}